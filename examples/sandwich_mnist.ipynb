{
  "cells": [
    {
      "cell_type": "markdown",
      "id": "8bfa6029",
      "metadata": {
        "id": "8bfa6029"
      },
      "source": [
        "# Training Lipschitz-Bounded Deep Networks for MNIST\n",
        "\n",
        "This notebook is a work-in-progress."
      ]
    },
    {
      "cell_type": "code",
      "source": [
        "print(\"Hello robust neural networks.\")"
      ],
      "metadata": {
        "id": "equP0eECsixg"
      },
      "id": "equP0eECsixg",
      "execution_count": null,
      "outputs": []
    },
    {
      "cell_type": "markdown",
      "id": "bd302300",
      "metadata": {
        "id": "bd302300"
      },
      "source": []
    }
  ],
  "metadata": {
    "language_info": {
      "name": "python"
    },
    "colab": {
      "provenance": []
    }
  },
  "nbformat": 4,
  "nbformat_minor": 5
}