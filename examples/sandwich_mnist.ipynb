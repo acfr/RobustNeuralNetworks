{
 "cells": [
  {
   "cell_type": "markdown",
   "id": "8bfa6029",
   "metadata": {},
   "source": [
    "# Training Lipschitz-Bounded Deep Networks for MNIST\n",
    "\n",
    "This notebook is a work-in-progress."
   ]
  },
  {
   "cell_type": "markdown",
   "id": "bd302300",
   "metadata": {},
   "source": []
  }
 ],
 "metadata": {
  "language_info": {
   "name": "python"
  }
 },
 "nbformat": 4,
 "nbformat_minor": 5
}
